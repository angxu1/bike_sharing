{
 "cells": [
  {
   "cell_type": "markdown",
   "metadata": {},
   "source": [
    "# Implementation of the EM and MM methods"
   ]
  },
  {
   "cell_type": "markdown",
   "metadata": {},
   "source": [
    "## 1. Preloading packages and functions"
   ]
  },
  {
   "cell_type": "code",
   "execution_count": 7,
   "metadata": {},
   "outputs": [],
   "source": [
    "import numpy as np\n",
    "import matplotlib.pyplot as plt\n",
    "import cvxpy as cp\n",
    "from scipy import optimize\n",
    "from scripts.estimation import *\n",
    "from scripts.utils import *\n",
    "import warnings"
   ]
  },
  {
   "attachments": {},
   "cell_type": "markdown",
   "metadata": {},
   "source": [
    "## 2. Generate Synthetic Data\n",
    "\n",
    "We generate the synthetic data from a Poisson process with an underlying MNL model as rider's choice probability. In the MNL model, the intercept is `beta0` and the coefficient regarding the distance to an available bike is `beta1`. The arrival times of riders follow Poisson process with rate `lambd`. The number of generated arrival locations is set as `num_position`. The number of bikes that is included in the system is set as `bike_num`. The arrival time period is `[0,T]`. In this example, all arrival locations are generated randomly over intersections of a $5\\times 5$ Cartesian grid."
   ]
  },
  {
   "cell_type": "code",
   "execution_count": 8,
   "metadata": {},
   "outputs": [],
   "source": [
    "rand_seed = 1  # Random seed\n",
    "num_position = 5 # Number of locations\n",
    "bike_num = 20 # Number of bikes\n",
    "lambd = 10 # arrival intensity\n",
    "grid_size = 5 # Number of intersections (grid_size x grid_size)\n",
    "beta0 = 1 # beta_0\n",
    "beta1_true = -1 # beta_1\n",
    "T = 100 # Observation period\n",
    "loc_bound = 5 # Length of service region\n"
   ]
  },
  {
   "cell_type": "code",
   "execution_count": 9,
   "metadata": {},
   "outputs": [],
   "source": [
    "true_pos_ind,bike_num,num_records,book_bike,book_index, \\\n",
    "dist,bike_loc,all_period,num_booked, \\\n",
    "cand_loc,true_loc,position_weight = gen_sync_in_grid(rand_seed,num_position,bike_num,lambd,\n",
    "                                                     grid_size,beta0=beta0,beta1_true=beta1_true,T=T,loc_bound=loc_bound)"
   ]
  },
  {
   "cell_type": "markdown",
   "metadata": {},
   "source": [
    "## 3. Implementation of the EM algorithm\n",
    "The following snippet tests the performance of the EM algorithm. All arrival locations are randomly generated in a Cartesian grid that is chosen as the candidate location set for the all-in algorithm. To test the accuracy of the EM algorithm, we select the top `num_position` locations with highest predicted weights as predicted rider locations. We also compute the $L_1$ norm between the predicted weights and the underlying truth."
   ]
  },
  {
   "cell_type": "code",
   "execution_count": 10,
   "metadata": {},
   "outputs": [
    {
     "name": "stdout",
     "output_type": "stream",
     "text": [
      "Number of iterations: 214\n",
      "Wasserstein distance: 3.8801720188783277\n",
      "Likelihood: -2398.3378170636706\n"
     ]
    }
   ],
   "source": [
    "# Initialization of parameters\n",
    "num_position_true = num_position\n",
    "num_position = grid_size**2\n",
    "\n",
    "w = np.random.uniform(0,1,num_position)\n",
    "w = w/np.sum(w)\n",
    "w = w.reshape(1,-1)\n",
    "diff_w = np.inf\n",
    "beta1 = np.repeat(-1,num_position).reshape(-1,1)\n",
    "dist_old = caldist(cand_loc[-1],bike_loc,bike_num)\n",
    "iter = 0\n",
    "threshold = 1e-3\n",
    "\n",
    "# EM iteration\n",
    "while diff_w > threshold:\n",
    "    iter = iter+1\n",
    "    p_old = np.zeros((num_position,bike_num+1,num_records))\n",
    "    p_olds = np.zeros((num_position,num_booked))\n",
    "    w_old = w[-1,:]\n",
    "    p_old[:,0,:] = 1/(1+np.sum(np.exp(beta0+np.reshape(beta1,(-1,1,1))*dist_old),axis=2))\n",
    "    p_old[:,1:,:] = np.exp(beta0+np.reshape(beta1,(-1,1,1))*np.transpose(dist_old,(0,2,1)))/ \\\n",
    "        np.reshape((1+np.sum(np.exp(beta0+np.reshape(beta1,(-1,1,1))*dist_old),axis=2)),(num_position,1,-1))\n",
    "    p_olds = p_old[:,book_bike+1,book_index]*np.reshape(w_old,(-1,1))/np.reshape(np.sum(np.reshape(w_old,(-1,1))*p_old[:,book_bike+1,book_index],axis=0),(1,-1))\n",
    "    p_oldsj0 = w_old*np.sum(p_old[:,0,:]*all_period,axis=1)/np.sum(w_old*np.sum(p_old[:,0,:]*all_period,axis=1))\n",
    "    s_old = np.sum((1-np.sum(np.expand_dims(w_old,1)*(1/(1+np.sum(np.exp(beta0+np.reshape(beta1,(-1,1,1))*dist_old),axis=2))),axis=0))*all_period)\n",
    "    N_oldy = num_booked*(T-s_old)/s_old\n",
    "    c = np.sum(p_olds,axis=1)+N_oldy*p_oldsj0\n",
    "    w_star = np.reshape(c/np.sum(c),(1,-1))\n",
    "    w = np.concatenate((w,w_star),axis=0)\n",
    "    diff_w = np.sum(np.abs(w[-1,:]-w[-2,:]))\n",
    "\n",
    "pre_w = w[-2]\n",
    "was_dist = find_wasserstein(cand_loc[0,:,:],true_loc,pre_w,position_weight)[0]\n",
    "lkd = findlkd_no_constraint(num_position,dist_old,\n",
    "                                beta0,np.repeat(beta1_true,num_position).reshape(-1,1),pre_w,\n",
    "                                bike_num,num_records,book_bike,book_index,num_booked,all_period)\n",
    "print('Number of iterations:', iter)\n",
    "print('Wasserstein distance:',was_dist)\n",
    "print('Likelihood:', lkd)"
   ]
  },
  {
   "cell_type": "markdown",
   "metadata": {},
   "source": [
    "## 4. Implementation of the MM algorithm"
   ]
  },
  {
   "cell_type": "markdown",
   "metadata": {},
   "source": [
    "The following snippet tests the performance of the MM algorithm. We use Frank-Wolfe algorithm to solve the corresponding concave optimization problem in each iteration of the MM algorithm."
   ]
  },
  {
   "cell_type": "code",
   "execution_count": 11,
   "metadata": {},
   "outputs": [],
   "source": [
    "warnings.filterwarnings(\"ignore\")\n",
    "# Initialization of parameters\n",
    "num_position = grid_size**2\n",
    "w = np.random.uniform(0,1,num_position)\n",
    "w = w/np.sum(w)\n",
    "w = w.reshape(1,-1)\n",
    "beta1 = np.repeat(-1,num_position).reshape(-1,1)\n",
    "loc = cand_loc\n",
    "\n",
    "dist1 = caldist(loc,bike_loc,bike_num)\n",
    "choice_prob = np.zeros((num_position,bike_num+1,num_records))\n",
    "choice_prob[:,0,:] = 1/(1+np.sum(np.exp(beta0+beta1.reshape(-1,1,1)*dist1),axis=2))\n",
    "choice_prob[:,1:,:] = np.exp(beta0+beta1.reshape(-1,1,1)*np.transpose(dist1,(0,2,1)))/(1+np.sum(np.exp(beta0+beta1.reshape(-1,1,1)*dist1),axis=2)).reshape(num_position,1,-1)\n",
    "diff_w = np.inf\n",
    "threshold = 1e-4\n",
    "threshold1 = 5e-3\n",
    "iter = 0\n",
    "grad_old = 0\n",
    "diff_grad = np.inf\n",
    "w_prime = w\n",
    "\n",
    "# Define the function that is optimized using golden-section search method\n",
    "def gold_search_func(alpha):\n",
    "    f = g(w_prime+alpha*(ej-w_prime),choice_prob,book_bike,book_index)-np.sum(grad_h*(w_prime+alpha*(ej-w_prime)))\n",
    "    return -f\n",
    "\n",
    "# Frank-Wolfe algorithm\n",
    "while(diff_w>threshold):\n",
    "    iter += 1\n",
    "    gw_prime = g(w_prime,choice_prob,book_bike,book_index)\n",
    "    grad_h = -num_booked *np.sum(choice_prob[:,0,:]*all_period,axis=1)/np.sum((1-np.sum(w.reshape(-1,1)*choice_prob[:,0,:],axis=0))*all_period)\n",
    "    diff_grad = np.inf\n",
    "    while (diff_grad>threshold1):\n",
    "        grad_g = find_grad_g(w_prime,choice_prob,book_bike,book_index)\n",
    "        j = np.argmax(grad_g-grad_h)\n",
    "        ej = np.zeros(num_position)\n",
    "        ej[j] = ej[j]+1\n",
    "        alpha = optimize.golden(gold_search_func, brack=(0, 1))\n",
    "        w_prime = w_prime + alpha*(ej-w_prime)\n",
    "        grad_new = np.abs(gw_prime-np.sum(grad_h*w_prime))\n",
    "        diff_grad = np.abs(grad_new-grad_old)\n",
    "        grad_old = grad_new\n",
    "    diff_w = np.sum(np.abs(w_prime-w))\n",
    "    w = w_prime\n",
    "    "
   ]
  },
  {
   "cell_type": "code",
   "execution_count": 12,
   "metadata": {},
   "outputs": [
    {
     "name": "stdout",
     "output_type": "stream",
     "text": [
      "Number of Iterations: 44\n",
      "Wasserstein distance: 3.902359016609296\n",
      "Likelihood: -2398.1274555209793\n"
     ]
    }
   ],
   "source": [
    "pre_w = w[-1]\n",
    "true_w = np.zeros(grid_size**2)\n",
    "true_w[true_pos_ind] = position_weight\n",
    "was_dist = find_wasserstein(cand_loc[0,:,:],true_loc,pre_w,position_weight)[0]\n",
    "lkd = findlkd_no_constraint(num_position,dist_old,\n",
    "                                beta0,np.repeat(beta1_true,num_position).reshape(-1,1),pre_w,\n",
    "                                bike_num,num_records,book_bike,book_index,num_booked,all_period)\n",
    "\n",
    "print('Number of Iterations:', iter)\n",
    "print('Wasserstein distance:',was_dist)\n",
    "print('Likelihood:',lkd)"
   ]
  }
 ],
 "metadata": {
  "kernelspec": {
   "display_name": "Python 3 (ipykernel)",
   "language": "python",
   "name": "python3"
  },
  "language_info": {
   "codemirror_mode": {
    "name": "ipython",
    "version": 3
   },
   "file_extension": ".py",
   "mimetype": "text/x-python",
   "name": "python",
   "nbconvert_exporter": "python",
   "pygments_lexer": "ipython3",
   "version": "3.8.10"
  },
  "vscode": {
   "interpreter": {
    "hash": "916dbcbb3f70747c44a77c7bcd40155683ae19c65e1c03b4aa3499c5328201f1"
   }
  }
 },
 "nbformat": 4,
 "nbformat_minor": 2
}
