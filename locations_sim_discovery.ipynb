{
 "cells": [
  {
   "attachments": {},
   "cell_type": "markdown",
   "metadata": {},
   "source": [
    "# Location-discovery algorithm\n",
    "\n",
    "This notebook demonstrates the performance of the location-discovery algorithm (both single and batch modes) proposed in the paper, where relevant results can be found in Table 2, Section 5.1.2."
   ]
  },
  {
   "attachments": {},
   "cell_type": "markdown",
   "metadata": {},
   "source": [
    "## 1. Preloading Packages and Functions"
   ]
  },
  {
   "cell_type": "code",
   "execution_count": 1,
   "metadata": {},
   "outputs": [],
   "source": [
    "import numpy as np\n",
    "import matplotlib.pyplot as plt\n",
    "import warnings\n",
    "import cvxpy as cp\n",
    "import matplotlib.lines as mlines\n",
    "import matplotlib.pyplot as plt\n",
    "from tqdm import tqdm\n",
    "from scipy.optimize import linprog\n",
    "from scripts.estimation import *\n",
    "from scripts.utils import *\n",
    "from scripts.discovery import *"
   ]
  },
  {
   "attachments": {},
   "cell_type": "markdown",
   "metadata": {},
   "source": [
    "## 2. Synthetic Data Generation\n",
    "\n",
    "We generate the synthetic arrival data from a Poisson process with an underlying MNL model as rider's choice probability. In this example, all arrival locations are generated from a uniform distribution within a square field inside the location bound."
   ]
  },
  {
   "cell_type": "code",
   "execution_count": 2,
   "metadata": {},
   "outputs": [],
   "source": [
    "rand_seed = 1\n",
    "num_position = 5\n",
    "bike_num = 20\n",
    "lambd = 10\n",
    "grid_size = 10\n",
    "beta0 = 1\n",
    "beta1_true = -1\n",
    "T = 100\n",
    "loc_bound = 5\n",
    "bike_num,num_records,book_bike,book_index,dist, \\\n",
    "bike_loc,all_period,num_booked,cand_loc,true_loc, \\\n",
    "position_weight=gen_sync(rand_seed,num_position,bike_num,lambd,grid_size,beta0=beta0,beta1_true=beta1_true,T=T,loc_bound=loc_bound)"
   ]
  },
  {
   "attachments": {},
   "cell_type": "markdown",
   "metadata": {},
   "source": [
    "## 3. Implementation of the Location-Discovery Algorithm\n",
    "\n",
    "The following snippets implement the location-discovery algorithm under the synthetic data generated above. The values of the MNL model parameters $\\beta_0$ and $\\beta_1$ are known here. We randomly initialize two locations and use our location-discovery algorithm to discover potential arrival locations. The location-discovery algorithm is stopped when out-of-sample validation likelihood decreases. After the discovery procedure, we trim locations with weights less than 0.01 for numerical stability"
   ]
  },
  {
   "attachments": {},
   "cell_type": "markdown",
   "metadata": {},
   "source": [
    "### 3.1 Single Discovery Mode \n",
    "\n",
    "The single discovery mode discovers location one at a time.  To find a new location to include, we begin our search by initializing a coarse Cartesian grid onto the square service region. We find the rider location in the grid that maximizes the partial derivative of the Lagrangian function. We then perform a second grid search that is confined to a smaller square region whose boundary is defined by the neighboring locations of the one selected from the first round. We again overlay a Cartesian grid with the same number of intersections onto this smaller square region and identify the location having the largest partial derivative."
   ]
  },
  {
   "cell_type": "markdown",
   "metadata": {},
   "source": [
    "### Stopping with Out-of-sample Likelihood"
   ]
  },
  {
   "cell_type": "code",
   "execution_count": 3,
   "metadata": {},
   "outputs": [],
   "source": [
    "np.random.seed(seed=rand_seed)\n",
    "train_data,test_data = gen_sync(rand_seed,num_position,bike_num,lambd,grid_size,beta0=beta0,beta1_true=beta1_true,T=T,loc_bound=loc_bound,split_data=True)\n",
    "bike_num,num_records_train,book_bike_train,book_index_train,dist_train,bike_loc_train,train_period,num_booked_train,cand_loc,true_loc,position_weight = train_data\n",
    "bike_num,num_records_test,book_bike_test,book_index_test,dist_test,bike_loc_test,test_period,num_booked_test,cand_loc,true_loc,position_weight = test_data\n",
    "T_train = 0.8*T\n",
    "T_test = 0.2*T\n",
    "init_num = 2\n",
    "cur_locnum = init_num\n",
    "lkd = np.array([])\n",
    "lkd = np.append(lkd,-np.inf)\n",
    "loc_add = np.array([])\n",
    "cur_loc = np.random.uniform(-loc_bound/2,loc_bound/2,(2,2))\n",
    "beta1_cur = beta1_true\n",
    "testlkd = [-np.inf,-np.inf,-np.inf]\n",
    "while (testlkd[-1]>=testlkd[-2]) or (testlkd[-2]>=testlkd[-3]):\n",
    "    if cur_locnum > init_num:\n",
    "        cur_loc = np.vstack((cur_loc,loc_add))\n",
    "        pre_w = cur_w\n",
    "    cur_dist = caldist(cur_loc,bike_loc_train,bike_num)\n",
    "    choice_prob = findchoice_prob(cur_locnum,cur_dist,beta0,beta1_cur,num_records_train,bike_num)\n",
    "    cur_w = findw_EM(cur_locnum,cur_loc.reshape(1,-1,2),beta0,bike_num,num_records_train,bike_loc_train,book_bike_train,num_booked_train,\n",
    "            book_index_train,train_period,T_train)\n",
    "    cur_lkd = findlkd_no_constraint(cur_locnum,cur_dist,beta0,np.repeat(beta1_cur,cur_locnum).reshape(-1,1),cur_w,\n",
    "                                bike_num,num_records_train,book_bike_train,book_index_train,num_booked_train,train_period)\n",
    "    lkd = np.append(lkd,cur_lkd)\n",
    "\n",
    "    test_dist = caldist(cur_loc,bike_loc_test,bike_num)\n",
    "    cur_testlkd = findlkd_no_constraint(cur_locnum,test_dist,beta0,np.repeat(beta1_cur,cur_locnum).reshape(-1,1),cur_w,\n",
    "                                    bike_num,num_records_test,book_bike_test,book_index_test,num_booked_test,test_period)\n",
    "    testlkd = testlkd+[cur_testlkd]\n",
    "\n",
    "    s = np.sum((1-np.sum(np.expand_dims(cur_w,1)*(1/(1+np.sum(np.exp(beta0+beta1_cur*cur_dist),axis=2))),axis=0))*train_period)\n",
    "    dist_new = caldist(cand_loc,bike_loc_train,bike_num)\n",
    "    grad1 = calgrad(num_booked_train,s,cand_loc.shape[1],beta0,beta1_cur,choice_prob,train_period,cur_w,dist_new\n",
    "                ,bike_num,num_records_train,book_bike_train,book_index_train)\n",
    "    loc_ind1 = np.argmax(grad1)\n",
    "\n",
    "    cand_loc2 = gen_loc(loc_bound,grid_size,s=(grid_size-1)/2,coor=cand_loc[0,loc_ind1])\n",
    "    dist_new2 = caldist(cand_loc2,bike_loc_train,bike_num)\n",
    "    grad2 = calgrad(num_booked_train,s,cand_loc2.shape[1],beta0,beta1_cur,choice_prob,train_period,cur_w,dist_new2\n",
    "                ,bike_num,num_records_train,book_bike_train,book_index_train)\n",
    "    loc_add = cand_loc2[0,np.argmax(grad2)].reshape(1,2)\n",
    "    cur_locnum = cur_locnum + 1"
   ]
  },
  {
   "cell_type": "code",
   "execution_count": 4,
   "metadata": {},
   "outputs": [
    {
     "name": "stdout",
     "output_type": "stream",
     "text": [
      "Number of discovered locations: 6\n",
      "The Wasserstein distance is: 3.164969730837989\n",
      "The log-likelihood value is: -1800.5799016366973\n"
     ]
    }
   ],
   "source": [
    "# Location trimming\n",
    "thres = 0.01\n",
    "num_loc = cur_w.shape[0]\n",
    "disc_lkd = lkd[-1]\n",
    "sel_ind = cur_w>thres\n",
    "w_trim = cur_w[sel_ind]/np.sum(cur_w[sel_ind])\n",
    "wasser_dist_disc = find_wasserstein(cur_loc[sel_ind,:],true_loc,w_trim,position_weight)\n",
    "num_remains = np.sum(sel_ind)\n",
    "trimmed_lkd = findlkd_no_constraint(np.sum(sel_ind),caldist(cur_loc[sel_ind,:],bike_loc,bike_num),\\\n",
    "                                    beta0,np.repeat(beta1_cur,np.sum(sel_ind)).reshape(-1,1),w_trim,\n",
    "                                    bike_num,num_records,book_bike,book_index,num_booked,all_period)\n",
    "\n",
    "print('Number of discovered locations:', num_remains)\n",
    "print('The Wasserstein distance is:',wasser_dist_disc[0])\n",
    "print('The log-likelihood value is:',trimmed_lkd)"
   ]
  },
  {
   "attachments": {},
   "cell_type": "markdown",
   "metadata": {},
   "source": [
    "### 3.2 Batch Discovery Mode\n",
    "\n",
    "The batch discovery mode discovers multiple locations at a time that can potentially enlarge the log-likelihood value. In the first round, we discover and include all \"local maximal\" rider locations in the set whose partial derivatives of the Lagrangian are greater than those of their neighboring locations. After that, we conduct a second round grid search near all locations selected in the first round. "
   ]
  },
  {
   "cell_type": "markdown",
   "metadata": {},
   "source": [
    "### Stopping with Out-of-sample Likelihood"
   ]
  },
  {
   "cell_type": "code",
   "execution_count": 5,
   "metadata": {},
   "outputs": [],
   "source": [
    "np.random.seed(rand_seed)\n",
    "train_data,test_data = gen_sync(rand_seed,num_position,bike_num,lambd,grid_size,beta0=beta0,beta1_true=beta1_true,T=T,loc_bound=loc_bound,split_data=True)\n",
    "bike_num,num_records_train,book_bike_train,book_index_train,dist_train,bike_loc_train,train_period,num_booked_train,cand_loc,true_loc,position_weight = train_data\n",
    "bike_num,num_records_test,book_bike_test,book_index_test,dist_test,bike_loc_test,test_period,num_booked_test,cand_loc,true_loc,position_weight = test_data\n",
    "\n",
    "T_train = 0.8*T\n",
    "T_test = 0.2*T\n",
    "init_num = 2\n",
    "cur_locnum = init_num\n",
    "lkd = np.array([])\n",
    "lkd = np.append(lkd,-np.inf)\n",
    "loc_add = np.array([])\n",
    "cur_loc = np.random.uniform(-loc_bound/2,loc_bound/2,(2,2)) \n",
    "beta1_cur = beta1_true\n",
    "testlkd = [-np.inf,-np.inf,-np.inf]\n",
    "while (testlkd[-1]>=testlkd[-2]):\n",
    "    if cur_locnum > init_num:\n",
    "        cur_loc = np.vstack((cur_loc,loc_add))\n",
    "        pre_w = cur_w\n",
    "    cur_dist = caldist(cur_loc,bike_loc_train,bike_num)\n",
    "    choice_prob = findchoice_prob(cur_locnum,cur_dist,beta0,beta1_cur,num_records_train,bike_num)\n",
    "    cur_w = findw_EM(cur_locnum,cur_loc.reshape(1,-1,2),beta0,bike_num,num_records_train,bike_loc_train,book_bike_train,num_booked_train,\n",
    "                book_index_train,train_period,T_train)\n",
    "    cur_lkd = findlkd_no_constraint(cur_locnum,cur_dist,beta0,np.repeat(beta1_cur,cur_locnum).reshape(-1,1),cur_w,\n",
    "                                    bike_num,num_records_train,book_bike_train,book_index_train,num_booked_train,train_period)\n",
    "    lkd = np.append(lkd,cur_lkd)\n",
    "\n",
    "    test_dist = caldist(cur_loc,bike_loc_test,bike_num)\n",
    "    cur_testlkd = findlkd_no_constraint(cur_locnum,test_dist,beta0,np.repeat(beta1_cur,cur_locnum).reshape(-1,1),cur_w,\n",
    "                                        bike_num,num_records_test,book_bike_test,book_index_test,num_booked_test,test_period)\n",
    "    testlkd = testlkd+[cur_testlkd]\n",
    "\n",
    "    s = np.sum((1-np.sum(np.expand_dims(cur_w,1)*(1/(1+np.sum(np.exp(beta0+beta1_cur*cur_dist),axis=2))),axis=0))*train_period)\n",
    "    dist_new = caldist(cand_loc,bike_loc_train,bike_num)\n",
    "    grad1 = calgrad(num_booked_train,s,cand_loc.shape[1],beta0,beta1_cur,choice_prob,train_period,cur_w,dist_new\n",
    "                    ,bike_num,num_records_train,book_bike_train,book_index_train)\n",
    "    loc_ind1 = sel_loc_max(grad1,grid_size)\n",
    "    num_added = loc_ind1.shape[0]\n",
    "    loc_add = np.zeros((num_added,2))\n",
    "    for i,loc_ind in enumerate(loc_ind1):\n",
    "        cand_loc2 = gen_loc(loc_bound,grid_size,s=(grid_size-1)/2,coor=cand_loc[0,loc_ind])\n",
    "        dist_new = caldist(cand_loc2,bike_loc_train,bike_num)\n",
    "        grad2 = calgrad(num_booked_train,s,cand_loc2.shape[1],beta0,beta1_cur,choice_prob,train_period,cur_w,dist_new\n",
    "                        ,bike_num,num_records_train,book_bike_train,book_index_train)\n",
    "        loc_add[i] = cand_loc2[0,np.argmax(grad2)]\n",
    "    cur_locnum = cur_locnum + num_added"
   ]
  },
  {
   "cell_type": "code",
   "execution_count": 6,
   "metadata": {},
   "outputs": [
    {
     "name": "stdout",
     "output_type": "stream",
     "text": [
      "Number of discovered locations: 17\n",
      "The Wasserstein distance is: 1.6991133387222581\n",
      "The log-likelihood value is: -1777.5191575924578\n"
     ]
    }
   ],
   "source": [
    "# Location trimming\n",
    "thres = 0.01\n",
    "sel_ind = cur_w>thres\n",
    "w_trim = cur_w[sel_ind]/np.sum(cur_w[sel_ind])\n",
    "wasser_dist_disc = find_wasserstein(cur_loc[sel_ind,:],true_loc,w_trim,position_weight)\n",
    "num_remains = np.sum(sel_ind)\n",
    "trimmed_lkd = findlkd_no_constraint(np.sum(sel_ind),caldist(cur_loc[sel_ind,:],bike_loc,bike_num),\\\n",
    "                                    beta0,np.repeat(beta1_true,np.sum(sel_ind)).reshape(-1,1),w_trim,\n",
    "                                    bike_num,num_records,book_bike,book_index,num_booked,all_period)\n",
    "\n",
    "print('Number of discovered locations:', num_remains)\n",
    "print('The Wasserstein distance is:',wasser_dist_disc[0])\n",
    "print('The log-likelihood value is:',trimmed_lkd)"
   ]
  },
  {
   "attachments": {},
   "cell_type": "markdown",
   "metadata": {},
   "source": [
    "## 4. Visualization\n",
    "\n",
    "We visualize the predicted locations and the underlying true locations with their corresponding weights over a Cartesian coordinate. We use triangles to represent the underlying true locations and circles to represent the predicted locations. Different colors represent different weights of the corresponding locations."
   ]
  },
  {
   "cell_type": "code",
   "execution_count": 7,
   "metadata": {},
   "outputs": [
    {
     "name": "stderr",
     "output_type": "stream",
     "text": [
      "No artists with labels found to put in legend.  Note that artists whose label start with an underscore are ignored when legend() is called with no argument.\n"
     ]
    },
    {
     "data": {
      "image/png": "[encoded data removed]",
      "text/plain": [
       "<Figure size 432x288 with 2 Axes>"
      ]
     },
     "metadata": {
      "needs_background": "light"
     },
     "output_type": "display_data"
    }
   ],
   "source": [
    "pred_loc = cur_loc[sel_ind,:]\n",
    "pred_weight = w_trim\n",
    "\n",
    "plt.scatter(pred_loc[:,0], pred_loc[:,1], c=pred_weight, s=30)\n",
    "plt.scatter(true_loc[:,0], true_loc[:,1], c=position_weight, marker=\"^\",s=30)\n",
    "plt.xlim(-loc_bound,loc_bound)\n",
    "plt.ylim(-loc_bound,loc_bound)\n",
    "plt.xlabel('x')\n",
    "plt.ylabel('y')\n",
    "plt.legend()\n",
    "plt.colorbar()\n",
    "\n",
    "blue_star = mlines.Line2D([], [], color='black', marker='^', linestyle='None', fillstyle='none',\n",
    "                          markersize=6, label='True locations')\n",
    "red_square = mlines.Line2D([], [], color='black', marker='o', linestyle='None',fillstyle='none',\n",
    "                          markersize=6, label='Predicted locations')\n",
    "\n",
    "plt.legend(handles=[blue_star, red_square])\n",
    "plt.show()"
   ]
  },
  {
   "attachments": {},
   "cell_type": "markdown",
   "metadata": {},
   "source": [
    "## 5. Jointly estimating $\\boldsymbol{w}$ and $\\boldsymbol{\\beta}_1$\n",
    "We extend the location-discovery algorithm to jointly estimate the weight vector $\\boldsymbol{w}$ and the slope $\\boldsymbol{\\beta}_1$ in the MNL model. Here, we assume that $\\boldsymbol{\\beta}_0$ is known to the operator and \n",
    "$\\boldsymbol{\\beta}_1$ is to be estimated. We further assume that $\\boldsymbol{\\beta}_0$ and $\\boldsymbol{\\beta}_1$ have the same value across all locations. All other setups are the same as before."
   ]
  },
  {
   "cell_type": "code",
   "execution_count": 8,
   "metadata": {},
   "outputs": [],
   "source": [
    "train_data,test_data = gen_sync(rand_seed,num_position,bike_num,lambd,grid_size,beta0=beta0,beta1_true=beta1_true,T=T,loc_bound=loc_bound,split_data=True)\n",
    "bike_num,num_records_train,book_bike_train,book_index_train,dist_train,bike_loc_train,train_period,num_booked_train,cand_loc,true_loc,position_weight = train_data\n",
    "bike_num,num_records_test,book_bike_test,book_index_test,dist_test,bike_loc_test,test_period,num_booked_test,cand_loc,true_loc,position_weight = test_data\n",
    "T_train = 0.8*T\n",
    "T_test = 0.2*T\n",
    "init_num = 2"
   ]
  },
  {
   "attachments": {},
   "cell_type": "markdown",
   "metadata": {},
   "source": [
    "### 5.1 Single Mode"
   ]
  },
  {
   "cell_type": "code",
   "execution_count": 9,
   "metadata": {},
   "outputs": [],
   "source": [
    "np.random.seed(seed=rand_seed)\n",
    "loc_bound = 5\n",
    "\n",
    "cur_locnum = init_num\n",
    "lkd = np.array([])\n",
    "lkd = np.append(lkd,-np.inf)\n",
    "loc_add = np.array([])\n",
    "cur_loc = np.random.uniform(-loc_bound/2,loc_bound/2,(2,2))\n",
    "beta1_cur = np.random.uniform(-10,0)\n",
    "beta1_rec = np.array([beta1_cur])\n",
    "testlkd = [-np.inf,-np.inf,-np.inf,-np.inf]\n",
    "while (testlkd[-1]>=testlkd[-2]) or (testlkd[-2]>=testlkd[-3]) or (cur_locnum<=5):\n",
    "    if cur_locnum > init_num:\n",
    "        cur_loc = np.vstack((cur_loc,loc_add))\n",
    "        pre_w = cur_w\n",
    "    cur_dist = caldist(cur_loc,bike_loc_train,bike_num)\n",
    "    choice_prob = findchoice_prob(cur_locnum,cur_dist,beta0,beta1_cur,num_records_train,bike_num)\n",
    "\n",
    "    beta1_cur,cur_w = findbetaw_EM(cur_locnum,cur_loc.reshape(1,-1,2),beta0,beta1_cur,bike_num,num_records_train,bike_loc_train,book_bike_train,num_booked_train,\n",
    "                                    book_index_train,train_period,T_train)\n",
    "    beta1_diff = np.abs((beta1_rec[-1]-beta1_cur)/beta1_rec[-1])\n",
    "    beta1_rec = np.append(beta1_rec,beta1_cur)\n",
    "\n",
    "    cur_lkd = findlkd_no_constraint(cur_locnum,cur_dist,beta0,np.repeat(beta1_cur,cur_locnum).reshape(-1,1),cur_w,\n",
    "                                    bike_num,num_records_train,book_bike_train,book_index_train,num_booked_train,train_period)\n",
    "    lkd = np.append(lkd,cur_lkd)\n",
    "\n",
    "    test_dist = caldist(cur_loc,bike_loc_test,bike_num)\n",
    "    cur_testlkd = findlkd_no_constraint(cur_locnum,test_dist,beta0,np.repeat(beta1_cur,cur_locnum).reshape(-1,1),cur_w,\n",
    "                                        bike_num,num_records_test,book_bike_test,book_index_test,num_booked_test,test_period)\n",
    "    testlkd = testlkd+[cur_testlkd]\n",
    "\n",
    "    s = np.sum((1-np.sum(np.expand_dims(cur_w,1)*(1/(1+np.sum(np.exp(beta0+beta1_cur*cur_dist),axis=2))),axis=0))*train_period)\n",
    "    dist_new = caldist(cand_loc,bike_loc_train,bike_num)\n",
    "    grad1 = calgrad(num_booked_train,s,cand_loc.shape[1],beta0,beta1_cur,choice_prob,train_period,cur_w,dist_new\n",
    "                    ,bike_num,num_records_train,book_bike_train,book_index_train)\n",
    "    loc_ind1 = np.argmax(grad1)\n",
    "\n",
    "    cand_loc2 = gen_loc(loc_bound,grid_size,s=(grid_size-1)/2,coor=cand_loc[0,loc_ind1])\n",
    "    dist_new2 = caldist(cand_loc2,bike_loc_train,bike_num)\n",
    "    grad2 = calgrad(num_booked_train,s,cand_loc2.shape[1],beta0,beta1_cur,choice_prob,train_period,cur_w,dist_new2\n",
    "                    ,bike_num,num_records_train,book_bike_train,book_index_train)\n",
    "    loc_add = cand_loc2[0,np.argmax(grad2)].reshape(1,2)\n",
    "    cur_locnum = cur_locnum + 1\n",
    "\n",
    "sel_ind = cur_w>0.01\n",
    "w_trim = cur_w[sel_ind]\n",
    "w_trim = w_trim/np.sum(w_trim)\n",
    "was_dist_disc = find_wasserstein(cur_loc[sel_ind,:],true_loc,w_trim,position_weight)[0]\n",
    "num_remains = np.sum(sel_ind)\n",
    "trimmed_lkd = findlkd_no_constraint(np.sum(sel_ind),caldist(cur_loc[sel_ind,:],bike_loc,bike_num),\n",
    "                                    beta0,np.repeat(beta1_cur,np.sum(sel_ind)).reshape(-1,1),w_trim,\n",
    "                                    bike_num,num_records,book_bike,book_index,num_booked,all_period)\n",
    "\n",
    "MAPE = np.abs(beta1_cur-beta1_true)/-beta1_true"
   ]
  },
  {
   "cell_type": "code",
   "execution_count": 10,
   "metadata": {},
   "outputs": [
    {
     "name": "stdout",
     "output_type": "stream",
     "text": [
      "The MAPE of beta1 is: 0.07608259670408479\n",
      "The Wasserstein distance is: 3.0957378715016777\n",
      "The log-likelihood value is: -1777.8437464417043\n"
     ]
    }
   ],
   "source": [
    "print('The MAPE of beta1 is:',MAPE)\n",
    "print('The Wasserstein distance is:',was_dist_disc)\n",
    "print('The log-likelihood value is:',trimmed_lkd)"
   ]
  },
  {
   "attachments": {},
   "cell_type": "markdown",
   "metadata": {},
   "source": [
    "### 5.2 Batch mode"
   ]
  },
  {
   "cell_type": "code",
   "execution_count": 11,
   "metadata": {},
   "outputs": [],
   "source": [
    "np.random.seed(seed=rand_seed)\n",
    "loc_bound = 5\n",
    "\n",
    "cur_locnum = init_num\n",
    "lkd = np.array([])\n",
    "lkd = np.append(lkd,-np.inf)\n",
    "loc_add = np.array([])\n",
    "cur_loc = np.random.uniform(-loc_bound/2,loc_bound/2,(2,2))\n",
    "beta1_cur = np.random.uniform(-10,0)\n",
    "beta1_rec = np.array([beta1_cur])\n",
    "testlkd = [-np.inf,-np.inf,-np.inf]\n",
    "while (testlkd[-1]>=testlkd[-2]) or (cur_locnum<=5):\n",
    "    if cur_locnum > init_num:\n",
    "        cur_loc = np.vstack((cur_loc,loc_add))\n",
    "        pre_w = cur_w\n",
    "    cur_dist = caldist(cur_loc,bike_loc_train,bike_num)\n",
    "    choice_prob = findchoice_prob(cur_locnum,cur_dist,beta0,beta1_cur,num_records_train,bike_num)\n",
    "    beta1_cur,cur_w = findbetaw_EM(cur_locnum,cur_loc.reshape(1,-1,2),beta0,beta1_cur,bike_num,num_records_train,bike_loc_train,book_bike_train,num_booked_train,\n",
    "                                    book_index_train,train_period,T_train)\n",
    "    beta1_diff = np.abs((beta1_rec[-1]-beta1_cur)/beta1_rec[-1])\n",
    "    beta1_rec = np.append(beta1_rec,beta1_cur)\n",
    "    cur_lkd = findlkd_no_constraint(cur_locnum,cur_dist,beta0,np.repeat(beta1_cur,cur_locnum).reshape(-1,1),cur_w,\n",
    "                                    bike_num,num_records_train,book_bike_train,book_index_train,num_booked_train,train_period)\n",
    "    lkd = np.append(lkd,cur_lkd)\n",
    "\n",
    "    test_dist = caldist(cur_loc,bike_loc_test,bike_num)\n",
    "    cur_testlkd = findlkd_no_constraint(cur_locnum,test_dist,beta0,np.repeat(beta1_cur,cur_locnum).reshape(-1,1),cur_w,\n",
    "                                        bike_num,num_records_test,book_bike_test,book_index_test,num_booked_test,test_period)\n",
    "    testlkd = testlkd+[cur_testlkd]\n",
    "\n",
    "    s = np.sum((1-np.sum(np.expand_dims(cur_w,1)*(1/(1+np.sum(np.exp(beta0+beta1_cur*cur_dist),axis=2))),axis=0))*train_period)\n",
    "    dist_new = caldist(cand_loc,bike_loc_train,bike_num)\n",
    "    grad1 = calgrad(num_booked_train,s,cand_loc.shape[1],beta0,beta1_cur,choice_prob,train_period,cur_w,dist_new\n",
    "                    ,bike_num,num_records_train,book_bike_train,book_index_train)\n",
    "    loc_ind1 = sel_loc_max(grad1,grid_size)\n",
    "    num_added = loc_ind1.shape[0]\n",
    "    loc_add = np.zeros((num_added,2))\n",
    "    for i,loc_ind in enumerate(loc_ind1):\n",
    "        cand_loc2 = gen_loc(loc_bound,grid_size,s=(grid_size-1)/2,coor=cand_loc[0,loc_ind])\n",
    "        dist_new = caldist(cand_loc2,bike_loc_train,bike_num)\n",
    "        grad2 = calgrad(num_booked_train,s,cand_loc2.shape[1],beta0,beta1_cur,choice_prob,train_period,cur_w,dist_new\n",
    "                        ,bike_num,num_records_train,book_bike_train,book_index_train)\n",
    "        loc_add[i] = cand_loc2[0,np.argmax(grad2)]\n",
    "    cur_locnum = cur_locnum + num_added\n",
    "\n",
    "sel_ind = cur_w>0.01\n",
    "w_trim = cur_w[sel_ind]\n",
    "w_trim = w_trim/np.sum(w_trim)\n",
    "was_dist_disc = find_wasserstein(cur_loc[sel_ind,:],true_loc,w_trim,position_weight)[0]\n",
    "num_remains = np.sum(sel_ind)\n",
    "trimmed_lkd = findlkd_no_constraint(np.sum(sel_ind),caldist(cur_loc[sel_ind,:],bike_loc,bike_num),\n",
    "                                    beta0,np.repeat(beta1_cur,np.sum(sel_ind)).reshape(-1,1),w_trim,\n",
    "                                    bike_num,num_records,book_bike,book_index,num_booked,all_period)\n",
    "MAPE = np.abs(beta1_cur-beta1_true)/-beta1_true"
   ]
  },
  {
   "cell_type": "code",
   "execution_count": 12,
   "metadata": {},
   "outputs": [
    {
     "name": "stdout",
     "output_type": "stream",
     "text": [
      "The MAPE of beta1 is: 0.2774724863939786\n",
      "The Wasserstein distance is: 3.641833458728626\n",
      "The log-likelihood value is: -1822.8202491866264\n"
     ]
    }
   ],
   "source": [
    "print('The MAPE of beta1 is:',MAPE)\n",
    "print('The Wasserstein distance is:',was_dist_disc)\n",
    "print('The log-likelihood value is:',trimmed_lkd)"
   ]
  }
 ],
 "metadata": {
  "kernelspec": {
   "display_name": "Python 3 (ipykernel)",
   "language": "python",
   "name": "python3"
  },
  "vscode": {
   "interpreter": {
    "hash": "916dbcbb3f70747c44a77c7bcd40155683ae19c65e1c03b4aa3499c5328201f1"
   }
  }
 },
 "nbformat": 4,
 "nbformat_minor": 2
}
