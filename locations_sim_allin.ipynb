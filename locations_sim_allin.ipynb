{
 "cells": [
  {
   "attachments": {},
   "cell_type": "markdown",
   "metadata": {},
   "source": [
    "# All-in Algorithm \n",
    "\n",
    "This notebook demonstrates the performance of the all-in algorithm proposed in the paper, where relevant results can be found in Table 2, Section 5.1.2."
   ]
  },
  {
   "attachments": {},
   "cell_type": "markdown",
   "metadata": {},
   "source": [
    "## 1. Preloading Packages and Functions"
   ]
  },
  {
   "cell_type": "code",
   "execution_count": 1,
   "metadata": {},
   "outputs": [],
   "source": [
    "import numpy as np\n",
    "import matplotlib.pyplot as plt\n",
    "import warnings\n",
    "import cvxpy as cp\n",
    "from scipy.optimize import linprog\n",
    "from scripts.estimation import *\n",
    "from scripts.utils import *"
   ]
  },
  {
   "attachments": {},
   "cell_type": "markdown",
   "metadata": {},
   "source": [
    "## 2. Synthetic Data Generation\n",
    "We generate the synthetic data from a Poisson process with an underlying MNL model as rider's choice probability. In this example, all arrival locations are generated from a uniform distribution within a square field inside the location bound."
   ]
  },
  {
   "cell_type": "code",
   "execution_count": 2,
   "metadata": {},
   "outputs": [],
   "source": [
    "rand_seed = 1\n",
    "num_position = 5\n",
    "bike_num = 20\n",
    "lambd = 10\n",
    "grid_size = 10\n",
    "beta0 = 1\n",
    "beta1_true = -1\n",
    "T = 100\n",
    "loc_bound = 5\n",
    "bike_num,num_records,book_bike,book_index,dist, \\\n",
    "bike_loc,all_period,num_booked,cand_loc,true_loc, \\\n",
    "position_weight=gen_sync(rand_seed,num_position,bike_num,lambd,grid_size,beta0=beta0,beta1_true=beta1_true,T=T,loc_bound=loc_bound)"
   ]
  },
  {
   "attachments": {},
   "cell_type": "markdown",
   "metadata": {},
   "source": [
    "## 3. Implementation of the All-in algorithm\n",
    "\n",
    "The following snippets implement the all-in algorithm under the synthetic data generated above. In short, the all-in algorithm enumerates a large set of all possible candidate locations to estimate the rider location set $\\mathcal{L}$. Here, we assume that the values of the MNL model parameters $\\beta_0$ and $\\beta_1$ are given."
   ]
  },
  {
   "cell_type": "code",
   "execution_count": 3,
   "metadata": {},
   "outputs": [],
   "source": [
    "# All-in algorithm (beta1 given)\n",
    "\n",
    "np.random.seed(seed=1)\n",
    "thres = 0.01\n",
    "select_index = np.arange(grid_size**2)\n",
    "w = findw_EM(select_index.shape[0],cand_loc[0,select_index],beta0,bike_num,num_records,bike_loc,book_bike,num_booked,book_index,all_period,T)"
   ]
  },
  {
   "cell_type": "code",
   "execution_count": 4,
   "metadata": {},
   "outputs": [
    {
     "name": "stdout",
     "output_type": "stream",
     "text": [
      "The Wasserstein distance is: 2.403561532050001\n",
      "The log-likelihood value is: -1777.8913740351745\n",
      "The BIC value is: 1851.0971271988524\n"
     ]
    }
   ],
   "source": [
    "# Location trimming\n",
    "select_index = np.where(w>thres)[0]\n",
    "w_select = w[select_index]\n",
    "w_select = findw_EM(select_index.shape[0],cand_loc[0,select_index],beta0,bike_num,num_records,bike_loc,book_bike,num_booked,\n",
    "             book_index,all_period,T)\n",
    "wasser_dist_disc = find_wasserstein(cand_loc[0,select_index],true_loc,w_select,position_weight)\n",
    "trimmed_loc_num = cand_loc[0,select_index].shape[0]\n",
    "trimmed_lkd = findlkd_no_constraint(trimmed_loc_num,caldist(cand_loc[0,select_index],bike_loc,bike_num),beta0,\n",
    "                      np.repeat(-1,trimmed_loc_num).reshape(-1,1),w_select,bike_num,num_records,book_bike,book_index,num_booked,all_period)\n",
    "print('The Wasserstein distance is:',wasser_dist_disc[0])\n",
    "print('The log-likelihood value is:',trimmed_lkd)\n",
    "print('The BIC value is:', -trimmed_lkd+0.5*trimmed_loc_num*np.log(num_booked))"
   ]
  },
  {
   "attachments": {},
   "cell_type": "markdown",
   "metadata": {},
   "source": [
    "## 4. Jointly estimating $\\boldsymbol{w}$ and $\\boldsymbol{\\beta}_1$\n",
    "We extend the all-in algorithm to jointly estimate the weight vector $\\boldsymbol{w}$ and the slope $\\boldsymbol{\\beta}_1$ in the MNL model when the slope $\\boldsymbol{\\beta}_1$ is not given. Here, we assume that $\\boldsymbol{\\beta}_0$ is known and \n",
    "$\\boldsymbol{\\beta}_1$ is to be estimated. We further assume that $\\boldsymbol{\\beta}_0$ and $\\boldsymbol{\\beta}_1$ have the same value across all locations. All other setups are the same as before."
   ]
  },
  {
   "cell_type": "code",
   "execution_count": 5,
   "metadata": {},
   "outputs": [],
   "source": [
    "# All-in algorithm (beta1 unknown)\n",
    "np.random.seed(seed=1)\n",
    "beta1_cur = np.random.uniform(-10,0)\n",
    "loc_old = cand_loc[-1]\n",
    "dist_old = caldist(loc_old,bike_loc,bike_num)\n",
    "beta1_cur, w = findbetaw_EM(grid_size**2,cand_loc,beta0,\n",
    "                            beta1_cur,bike_num,num_records,bike_loc,book_bike,num_booked,book_index,all_period,T)"
   ]
  },
  {
   "cell_type": "code",
   "execution_count": 6,
   "metadata": {},
   "outputs": [
    {
     "name": "stdout",
     "output_type": "stream",
     "text": [
      "The Wasserstein distance is: 2.667006964429996\n",
      "The MAPE for beta1 is: 0.29964829426228534\n"
     ]
    }
   ],
   "source": [
    "# Location trimming\n",
    "select_index = np.where(w>thres)[0]\n",
    "w_select = w[select_index]\n",
    "beta1_em, w_select = findbetaw_EM(select_index.shape[0],cand_loc[:,select_index],beta0,\n",
    "                                  beta1_cur,bike_num,num_records,bike_loc,book_bike,num_booked,book_index,all_period,T)\n",
    "wasser_dist_disc = find_wasserstein(cand_loc[0,select_index],true_loc,w_select,position_weight)\n",
    "print('The Wasserstein distance is:',wasser_dist_disc[0])\n",
    "print('The MAPE for beta1 is:',np.abs(beta1_em-beta1_true)/-beta1_true)"
   ]
  }
 ],
 "metadata": {
  "kernelspec": {
   "display_name": "Python 3 (ipykernel)",
   "language": "python",
   "name": "python3"
  },
  "vscode": {
   "interpreter": {
    "hash": "916dbcbb3f70747c44a77c7bcd40155683ae19c65e1c03b4aa3499c5328201f1"
   }
  }
 },
 "nbformat": 4,
 "nbformat_minor": 2
}
