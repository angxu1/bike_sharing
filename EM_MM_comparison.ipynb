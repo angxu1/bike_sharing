{
 "cells": [
  {
   "cell_type": "code",
   "execution_count": 1,
   "metadata": {},
   "outputs": [],
   "source": [
    "import numpy as np\n",
    "import matplotlib.pyplot as plt\n",
    "import cvxpy as cp\n",
    "from scipy import optimize\n",
    "from scripts.estimation import *\n",
    "from scripts.utils import *\n",
    "from tqdm import tqdm\n",
    "import time"
   ]
  },
  {
   "cell_type": "markdown",
   "metadata": {},
   "source": [
    "## Comparsion of the EM and MM methods\n",
    "\n",
    "The following snippet reproduces table 1 in the paper. It compares the performance of the EM algorithm with the MM algorithm. "
   ]
  },
  {
   "cell_type": "code",
   "execution_count": 2,
   "metadata": {},
   "outputs": [
    {
     "name": "stderr",
     "output_type": "stream",
     "text": [
      "  0%|          | 0/10 [00:00<?, ?it/s]"
     ]
    },
    {
     "name": "stderr",
     "output_type": "stream",
     "text": [
      "/home/azureuser/bike_sharing_new/bike_sharing_upload/bike_sharing/scripts/estimation.py:353: RuntimeWarning: invalid value encountered in log\n",
      "  g = np.sum(np.log(np.sum(w.reshape(-1,1)*(choice_prob[:,book_bike+1,book_index]),axis=0)))\n",
      " 10%|█         | 1/10 [00:14<02:14, 14.96s/it]"
     ]
    },
    {
     "name": "stdout",
     "output_type": "stream",
     "text": [
      "0.017105579376220703 13.873564720153809\n"
     ]
    },
    {
     "name": "stderr",
     "output_type": "stream",
     "text": [
      " 20%|██        | 2/10 [00:40<02:51, 21.46s/it]"
     ]
    },
    {
     "name": "stdout",
     "output_type": "stream",
     "text": [
      "0.04201912879943848 39.39405012130737\n"
     ]
    },
    {
     "name": "stderr",
     "output_type": "stream",
     "text": [
      " 30%|███       | 3/10 [01:07<02:45, 23.64s/it]"
     ]
    },
    {
     "name": "stdout",
     "output_type": "stream",
     "text": [
      "0.0655355453491211 65.1320571899414\n"
     ]
    },
    {
     "name": "stderr",
     "output_type": "stream",
     "text": [
      " 40%|████      | 4/10 [01:32<02:26, 24.44s/it]"
     ]
    },
    {
     "name": "stdout",
     "output_type": "stream",
     "text": [
      "0.08232712745666504 90.32118248939514\n"
     ]
    },
    {
     "name": "stderr",
     "output_type": "stream",
     "text": [
      " 50%|█████     | 5/10 [02:03<02:13, 26.68s/it]"
     ]
    },
    {
     "name": "stdout",
     "output_type": "stream",
     "text": [
      "0.1028585433959961 120.61715054512024\n"
     ]
    },
    {
     "name": "stderr",
     "output_type": "stream",
     "text": [
      " 60%|██████    | 6/10 [02:22<01:36, 24.04s/it]"
     ]
    },
    {
     "name": "stdout",
     "output_type": "stream",
     "text": [
      "0.11832118034362793 139.07138013839722\n"
     ]
    },
    {
     "name": "stderr",
     "output_type": "stream",
     "text": [
      " 70%|███████   | 7/10 [02:34<01:00, 20.11s/it]"
     ]
    },
    {
     "name": "stdout",
     "output_type": "stream",
     "text": [
      "0.133803129196167 150.63148736953735\n"
     ]
    },
    {
     "name": "stderr",
     "output_type": "stream",
     "text": [
      " 80%|████████  | 8/10 [02:58<00:42, 21.21s/it]"
     ]
    },
    {
     "name": "stdout",
     "output_type": "stream",
     "text": [
      "0.16292977333068848 173.8023760318756\n"
     ]
    },
    {
     "name": "stderr",
     "output_type": "stream",
     "text": [
      " 90%|█████████ | 9/10 [03:20<00:21, 21.48s/it]"
     ]
    },
    {
     "name": "stdout",
     "output_type": "stream",
     "text": [
      "0.18083620071411133 195.38119912147522\n"
     ]
    },
    {
     "name": "stderr",
     "output_type": "stream",
     "text": [
      "100%|██████████| 10/10 [03:37<00:00, 21.80s/it]"
     ]
    },
    {
     "name": "stdout",
     "output_type": "stream",
     "text": [
      "0.20245623588562012 212.95745086669922\n",
      "0.020245623588562012 21.29574508666992\n",
      "120.2 274.8\n",
      "-4533.5831768438175 -4533.467803038004\n"
     ]
    },
    {
     "name": "stderr",
     "output_type": "stream",
     "text": [
      "\n"
     ]
    }
   ],
   "source": [
    "lambd = 10\n",
    "grid_size = 5\n",
    "beta0 = 1\n",
    "beta1_true = -1\n",
    "T = 100\n",
    "loc_bound = 5\n",
    "EM_time = 0\n",
    "MM_time = 0\n",
    "num_rep = 10\n",
    "EM_iter = 0\n",
    "MM_iter = 0\n",
    "EM_lkd = 0\n",
    "MM_lkd = 0\n",
    "EM_wd = 0\n",
    "MM_wd = 0\n",
    "\n",
    "for rand_seed in tqdm(range(num_rep)):\n",
    "    num_position = 10 # number of arrival locations\n",
    "    bike_num = 40 # total number of bikes\n",
    "\n",
    "    true_pos_ind,bike_num,num_records,book_bike,book_index, \\\n",
    "    dist,bike_loc,all_period,num_booked, \\\n",
    "    cand_loc,true_loc,position_weight = gen_sync_in_grid(rand_seed,num_position,bike_num,lambd,\n",
    "                                                        grid_size,beta0=beta0,beta1_true=beta1_true,T=T,loc_bound=loc_bound)\n",
    "    # Initialization of parameters\n",
    "    num_position_true = num_position\n",
    "    num_position = grid_size**2\n",
    "\n",
    "    w = np.random.uniform(0,1,num_position)\n",
    "    w = w/np.sum(w)\n",
    "    w = w.reshape(1,-1)\n",
    "    diff_w = np.inf\n",
    "    beta1 = np.repeat(-1,num_position).reshape(-1,1)\n",
    "    dist_old = caldist(cand_loc[-1],bike_loc,bike_num)\n",
    "    iter = 0\n",
    "    threshold = 1e-3\n",
    "\n",
    "    p_old = np.zeros((num_position,bike_num+1,num_records))\n",
    "    p_old[:,0,:] = 1/(1+np.sum(np.exp(beta0+np.reshape(beta1,(-1,1,1))*dist_old),axis=2))\n",
    "    p_old[:,1:,:] = np.exp(beta0+np.reshape(beta1,(-1,1,1))*np.transpose(dist_old,(0,2,1)))/ \\\n",
    "        np.reshape((1+np.sum(np.exp(beta0+np.reshape(beta1,(-1,1,1))*dist_old),axis=2)),(num_position,1,-1))\n",
    "    p1 = np.sum(p_old[:,0,:]*all_period,axis=1)\n",
    "    p2 = (1/(1+np.sum(np.exp(beta0+np.reshape(beta1,(-1,1,1))*dist_old),axis=2)))\n",
    "    # EM iteration\n",
    "    EM_t_start = time.time()\n",
    "    while diff_w > threshold:\n",
    "        iter = iter+1\n",
    "        p_olds = np.zeros((num_position,num_booked))\n",
    "        w_old = w[-1,:]\n",
    "        p0 = p_old[:,book_bike+1,book_index]*np.reshape(w_old,(-1,1))\n",
    "        p_olds = p0/np.reshape(np.sum(p0,axis=0),(1,-1))\n",
    "        p_oldsj0 = w_old*p1/np.sum(w_old*p1)\n",
    "        s_old = np.sum((1-np.sum(np.expand_dims(w_old,1)*p2,axis=0))*all_period)\n",
    "        N_oldy = num_booked*(T-s_old)/s_old\n",
    "        c = np.sum(p_olds,axis=1)+N_oldy*p_oldsj0\n",
    "        w_star = np.reshape(c/np.sum(c),(1,-1))\n",
    "        w = np.concatenate((w,w_star),axis=0)\n",
    "        diff_w = np.sum(np.abs(w[-1,:]-w[-2,:]))\n",
    "    \n",
    "    EM_t_end = time.time()\n",
    "    EM_time += EM_t_end - EM_t_start\n",
    "\n",
    "    pre_w = w[-2]\n",
    "    true_w = np.zeros(grid_size**2)\n",
    "    true_w[true_pos_ind] = position_weight\n",
    "    lkd = findlkd_no_constraint(num_position,dist_old,\n",
    "                                    beta0,np.repeat(beta1_true,num_position).reshape(-1,1),pre_w,\n",
    "                                    bike_num,num_records,book_bike,book_index,num_booked,all_period)\n",
    "    was_dist = find_wasserstein(cand_loc[0,:,:],true_loc,pre_w,position_weight)[0]\n",
    "\n",
    "    EM_iter += iter\n",
    "    EM_lkd += lkd\n",
    "    EM_wd += was_dist\n",
    "\n",
    "    # Initialization of parameters\n",
    "    num_position = grid_size**2\n",
    "    w = np.random.uniform(0,1,num_position)\n",
    "    w = w/np.sum(w)\n",
    "    w = w.reshape(1,-1)\n",
    "    beta1 = np.repeat(-1,num_position).reshape(-1,1)\n",
    "    loc = cand_loc\n",
    "\n",
    "    dist1 = caldist(loc,bike_loc,bike_num)\n",
    "    choice_prob = np.zeros((num_position,bike_num+1,num_records))\n",
    "    choice_prob[:,0,:] = 1/(1+np.sum(np.exp(beta0+beta1.reshape(-1,1,1)*dist1),axis=2))\n",
    "    choice_prob[:,1:,:] = np.exp(beta0+beta1.reshape(-1,1,1)*np.transpose(dist1,(0,2,1)))/(1+np.sum(np.exp(beta0+beta1.reshape(-1,1,1)*dist1),axis=2)).reshape(num_position,1,-1)\n",
    "    diff_w = np.inf\n",
    "    threshold = 1e-4\n",
    "    threshold1 = 5e-3\n",
    "    iter = 0\n",
    "    grad_old = 0\n",
    "    diff_grad = np.inf\n",
    "    w_prime = w\n",
    "\n",
    "    # Define the function that is optimized using golden-section search method\n",
    "    def gold_search_func(alpha):\n",
    "        f = g(w_prime+alpha*(ej-w_prime),choice_prob,book_bike,book_index)-np.sum(grad_h*(w_prime+alpha*(ej-w_prime)))\n",
    "        return -f\n",
    "\n",
    "    MM_t_start = time.time()\n",
    "\n",
    "    # Frank-Wolfe algorithm\n",
    "    while(diff_w>threshold):\n",
    "        iter += 1\n",
    "        gw_prime = g(w_prime,choice_prob,book_bike,book_index)\n",
    "        grad_h = -num_booked *np.sum(choice_prob[:,0,:]*all_period,axis=1)/np.sum((1-np.sum(w.reshape(-1,1)*choice_prob[:,0,:],axis=0))*all_period)\n",
    "        diff_grad = np.inf\n",
    "        while (diff_grad>threshold1):\n",
    "            grad_g = find_grad_g(w_prime,choice_prob,book_bike,book_index)\n",
    "            j = np.argmax(grad_g-grad_h)\n",
    "            ej = np.zeros(num_position)\n",
    "            ej[j] = ej[j]+1\n",
    "            alpha = optimize.golden(gold_search_func, brack=(0, 1))\n",
    "            w_prime = w_prime + alpha*(ej-w_prime)\n",
    "            grad_new = np.abs(gw_prime-np.sum(grad_h*w_prime))\n",
    "            diff_grad = np.abs(grad_new-grad_old)\n",
    "            grad_old = grad_new\n",
    "        diff_w = np.sum(np.abs(w_prime-w))\n",
    "        w = w_prime\n",
    "\n",
    "    MM_t_end = time.time()\n",
    "    MM_time += MM_t_end - MM_t_start\n",
    "\n",
    "    pre_w = w[-1]\n",
    "    true_w = np.zeros(grid_size**2)\n",
    "    true_w[true_pos_ind] = position_weight\n",
    "    l1norm = np.sum(np.abs(pre_w-true_w))\n",
    "    lkd = findlkd_no_constraint(num_position,dist_old,\n",
    "                                    beta0,np.repeat(beta1_true,num_position).reshape(-1,1),pre_w,\n",
    "                                    bike_num,num_records,book_bike,book_index,num_booked,all_period)\n",
    "    was_dist = find_wasserstein(cand_loc[0,:,:],true_loc,pre_w,position_weight)[0]\n",
    "    MM_iter += iter\n",
    "    MM_lkd += lkd\n",
    "    MM_wd += was_dist\n",
    "\n",
    "    print(EM_time,MM_time)\n",
    "\n",
    "print(EM_time/num_rep, MM_time/num_rep)\n",
    "print(EM_iter/num_rep, MM_iter/num_rep)\n",
    "print(EM_lkd/num_rep, MM_lkd/num_rep)\n",
    " "
   ]
  },
  {
   "cell_type": "code",
   "execution_count": 3,
   "metadata": {},
   "outputs": [
    {
     "name": "stdout",
     "output_type": "stream",
     "text": [
      "Avg. time for EM/MM algorithm: 0.020245623588562012 21.29574508666992\n",
      "Avg. num. of iterations for EM/MM algorithm: 120.2 274.8\n",
      "Avg. likelihood for EM/MM algorithm: -4533.5831768438175 -4533.467803038004\n",
      "Avg. Wasserstein distance for EM/MM algorithm: 3.4529780622510997 3.4547998173448873\n"
     ]
    }
   ],
   "source": [
    "print('Avg. time for EM/MM algorithm:',EM_time/num_rep, MM_time/num_rep)\n",
    "print('Avg. num. of iterations for EM/MM algorithm:',EM_iter/num_rep, MM_iter/num_rep)\n",
    "print('Avg. likelihood for EM/MM algorithm:',EM_lkd/num_rep, MM_lkd/num_rep)\n",
    "print('Avg. Wasserstein distance for EM/MM algorithm:',EM_wd/num_rep, MM_wd/num_rep)"
   ]
  }
 ],
 "metadata": {
  "kernelspec": {
   "display_name": "Python 3",
   "language": "python",
   "name": "python3"
  },
  "language_info": {
   "codemirror_mode": {
    "name": "ipython",
    "version": 3
   },
   "file_extension": ".py",
   "mimetype": "text/x-python",
   "name": "python",
   "nbconvert_exporter": "python",
   "pygments_lexer": "ipython3",
   "version": "3.8.10"
  }
 },
 "nbformat": 4,
 "nbformat_minor": 2
}
